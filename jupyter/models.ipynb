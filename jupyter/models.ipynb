{
 "cells": [
  {
   "cell_type": "code",
   "execution_count": null,
   "metadata": {},
   "outputs": [
    {
     "data": {
      "text/plain": [
       "2.6.0+cpu\n"
      ]
     },
     "metadata": {},
     "output_type": "display_data"
    }
   ],
   "source": [
    "import torch\n",
    "print(torch.__version__)"
   ]
  },
  {
   "cell_type": "code",
   "execution_count": null,
   "metadata": {},
   "outputs": [],
   "source": [
    "import torch\n",
    "from torch import nn\n",
    "from torch.nn import init\n",
    "import pandas as pd\n",
    "from sklearn.preprocessing import StandardScaler\n",
    "from sklearn.model_selection import train_test_split"
   ]
  },
  {
   "cell_type": "code",
   "execution_count": null,
   "metadata": {},
   "outputs": [
    {
     "data": {
      "text/plain": [
       "BinaryModel(\n",
       "  (linear1): Linear(in_features=9, out_features=18, bias=True)\n",
       "  (linear2): Linear(in_features=18, out_features=12, bias=True)\n",
       "  (linear3): Linear(in_features=12, out_features=6, bias=True)\n",
       "  (linear4): Linear(in_features=6, out_features=1, bias=True)\n",
       "  (sigmoid): Sigmoid()\n",
       ")\n"
      ]
     },
     "metadata": {},
     "output_type": "display_data"
    }
   ],
   "source": [
    "# Make our model class\n",
    "class BinaryModel(nn.Module):\n",
    "    def __init__(self):\n",
    "        super(BinaryModel, self).__init__()\n",
    "        self.linear1 = nn.Linear(9, 18) # 9 features, input layer\n",
    "        self.linear2 = nn.Linear(18, 12) # hidden layer\n",
    "        self.linear3 = nn.Linear(12, 6) # hidden layer\n",
    "        self.linear4 = nn.Linear(6, 1)  # hidden layer\n",
    "        self.sigmoid = nn.Sigmoid() # activation layer\n",
    "\n",
    "    def forward(self, x):\n",
    "        x = self.linear1(x)\n",
    "        x = self.linear2(x)\n",
    "        x = self.linear3(x)\n",
    "        x = self.linear4(x)\n",
    "        return self.sigmoid(x)\n",
    "\n",
    "\n",
    "model = BinaryModel()\n",
    "print(model)"
   ]
  },
  {
   "cell_type": "code",
   "execution_count": null,
   "metadata": {},
   "outputs": [
    {
     "data": {
      "text/plain": [
       "Traceback (most recent call last):\n",
       "  File \"/home/wtadam2/.vscode-server/extensions/ms-python.python-2025.0.0/python_files/python_server.py\", line 133, in exec_user_input\n",
       "    retval = callable_(user_input, user_globals)\n",
       "             ^^^^^^^^^^^^^^^^^^^^^^^^^^^^^^^^^^^\n",
       "  File \"<string>\", line 3, in <module>\n",
       "  File \"/home/wtadam2/default/lib/python3.12/site-packages/pandas/io/parsers/readers.py\", line 1026, in read_csv\n",
       "    return _read(filepath_or_buffer, kwds)\n",
       "           ^^^^^^^^^^^^^^^^^^^^^^^^^^^^^^^\n",
       "  File \"/home/wtadam2/default/lib/python3.12/site-packages/pandas/io/parsers/readers.py\", line 620, in _read\n",
       "    parser = TextFileReader(filepath_or_buffer, **kwds)\n",
       "             ^^^^^^^^^^^^^^^^^^^^^^^^^^^^^^^^^^^^^^^^^^\n",
       "  File \"/home/wtadam2/default/lib/python3.12/site-packages/pandas/io/parsers/readers.py\", line 1620, in __init__\n",
       "    self._engine = self._make_engine(f, self.engine)\n",
       "                   ^^^^^^^^^^^^^^^^^^^^^^^^^^^^^^^^^\n",
       "  File \"/home/wtadam2/default/lib/python3.12/site-packages/pandas/io/parsers/readers.py\", line 1880, in _make_engine\n",
       "    self.handles = get_handle(\n",
       "                   ^^^^^^^^^^^\n",
       "  File \"/home/wtadam2/default/lib/python3.12/site-packages/pandas/io/common.py\", line 873, in get_handle\n",
       "    handle = open(\n",
       "             ^^^^^\n",
       "FileNotFoundError: [Errno 2] No such file or directory: './water_potability.csv'\n",
       "\n"
      ]
     },
     "metadata": {},
     "output_type": "display_data"
    }
   ],
   "source": [
    "# Data preprocessing\n",
    "\n",
    "df = pd.read_csv('./water_potability.csv')\n",
    "# print(df.iloc[0])\n",
    "\n",
    "# fill in features null values with average or mean\n",
    "df.fillna(df.mean(), inplace=True)\n",
    "df.isnull().sum()"
   ]
  }
 ],
 "metadata": {
  "language_info": {
   "name": "python"
  }
 },
 "nbformat": 4,
 "nbformat_minor": 2
}
